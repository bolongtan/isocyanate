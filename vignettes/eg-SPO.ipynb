{
 "cells": [
  {
   "cell_type": "markdown",
   "metadata": {},
   "source": [
    "### Simple SPO framework for CSC"
   ]
  },
  {
   "cell_type": "code",
   "execution_count": 1,
   "metadata": {
    "collapsed": true
   },
   "outputs": [],
   "source": [
    "import warnings\n",
    "warnings.filterwarnings('ignore')"
   ]
  },
  {
   "cell_type": "code",
   "execution_count": 2,
   "metadata": {
    "collapsed": true
   },
   "outputs": [],
   "source": [
    "%matplotlib inline\n",
    "import numpy as np\n",
    "import pandas as pd\n",
    "import matplotlib.pyplot as plt\n",
    "\n",
    "import tensorflow as tf\n",
    "import utils\n",
    "\n",
    "DATA_FILE = \"../data-raw/sample.csv\"\n",
    "\n",
    "data = pd.read_csv(DATA_FILE, header = None)\n",
    "data = data[0:10] # take a slice\n",
    "n_sample = data.shape[0]\n",
    "n_asset = data.shape[1]"
   ]
  },
  {
   "cell_type": "code",
   "execution_count": 6,
   "metadata": {},
   "outputs": [
    {
     "name": "stdout",
     "output_type": "stream",
     "text": [
      "[[0.00064571]]\n"
     ]
    }
   ],
   "source": [
    "# writer = tf.summary.FileWriter('./graphs', tf.get_default_graph())\n",
    "#  ... Session context\n",
    "# writer.close()\n",
    "\n",
    "rt = tf.placeholder(name=\"returns\", dtype=tf.float64, shape=data.shape) # tradable assets\n",
    "w = tf.Variable(tf.zeros(shape=(data.shape[1], 1), dtype=tf.float64), name='weights', dtype=tf.float64)\n",
    "l = tf.Variable(tf.zeros(shape=(1, 1), dtype=tf.float64), name='lambda', dtype=tf.float64) # lambda for self-financing\n",
    "\n",
    "# single variable constraints\n",
    "w = tf.assign(w, tf.clip_by_value(w, 0.5, 0))\n",
    "# w = tf.get_variable(name='weights', shape=data.shape, initializer=tf.zeros_initializer())\n",
    "# l = tf.get_variable(name='lambda', shape=(1,1), initializer=tf.zeros_initializer())\n",
    "\n",
    "rp = tf.reduce_mean(tf.tensordot(rt, w[0:data.shape[1]], 1)) # alt: tf.nn.moments(rt, axes=[1])\n",
    "err = tf.tensordot((rt - tf.reduce_mean(rt, 0)), w, 1)\n",
    "risk = tf.tensordot(tf.transpose(err), err, 1) / n_sample # E w^T (X - EX)^T (X - EX) w\n",
    "\n",
    "sf_const = 1 - tf.reduce_sum(w) # self-financing constraints, Lagragian Duality\n",
    "\n",
    "obj = - rp + 50 * risk + l * sf_const\n",
    "optimizer = tf.train.GradientDescentOptimizer(learning_rate=0.001).minimize(obj)\n",
    "\n",
    "init_op = tf.global_variables_initializer()\n",
    "with tf.Session() as sess:\n",
    "    sess.run(init_op)\n",
    "    for i in range(200):\n",
    "        sess.run(optimizer, feed_dict={rt: data})\n",
    "    print(sess.run(risk, feed_dict={rt: data}))"
   ]
  }
 ],
 "metadata": {
  "kernelspec": {
   "display_name": "Python 2",
   "language": "python",
   "name": "python2"
  },
  "language_info": {
   "codemirror_mode": {
    "name": "ipython",
    "version": 2
   },
   "file_extension": ".py",
   "mimetype": "text/x-python",
   "name": "python",
   "nbconvert_exporter": "python",
   "pygments_lexer": "ipython2",
   "version": "2.7.14"
  }
 },
 "nbformat": 4,
 "nbformat_minor": 2
}
