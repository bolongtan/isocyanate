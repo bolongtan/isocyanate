{
 "cells": [
  {
   "cell_type": "markdown",
   "metadata": {},
   "source": [
    "### Simple SPO framework for CSC"
   ]
  },
  {
   "cell_type": "code",
   "execution_count": null,
   "metadata": {},
   "outputs": [],
   "source": [
    "import warnings\n",
    "\n",
    "warnings.filterwarnings('ignore')"
   ]
  },
  {
   "cell_type": "code",
   "execution_count": null,
   "metadata": {},
   "outputs": [],
   "source": [
    "%matplotlib inline\n",
    "import numpy as np\n",
    "import pandas as pd\n",
    "import matplotlib.pyplot as plt\n",
    "\n",
    "import tensorflow as tf\n",
    "import utils\n",
    "import functools\n",
    "\n",
    "DATA_FILE = \"../data-raw/sample.csv\"\n",
    "\n",
    "data = pd.read_csv(DATA_FILE, header = None)\n",
    "data = data[0:100] # take a slice\n",
    "n_sample = data.shape[0]\n",
    "n_asset = data.shape[1]"
   ]
  },
  {
   "cell_type": "code",
   "execution_count": 6,
   "metadata": {},
   "outputs": [],
   "source": [
    "# writer = tf.summary.FileWriter('./graphs', tf.get_default_graph())\n",
    "#  ... Session context\n",
    "# writer.close()\n",
    "\n",
    "rt = tf.placeholder(name=\"returns\", dtype=tf.float64, shape=data.shape) # tradable assets\n",
    "w = tf.Variable(tf.ones(shape=(data.shape[1], 1), dtype=tf.float64)/3, \n",
    "                name='weights', dtype=tf.float64)\n",
    "l = tf.Variable(tf.zeros(shape=(1, 1), dtype=tf.float64), \n",
    "                name='lambda', dtype=tf.float64) # lambda for self-financing\n",
    "\n",
    "# single variable constraints\n",
    "w = tf.assign(w, tf.clip_by_value(w, 0, 1))\n",
    "# w = tf.get_variable(name='weights', shape=data.shape, initializer=tf.zeros_initializer())\n",
    "# l = tf.get_variable(name='lambda', shape=(1,1), initializer=tf.zeros_initializer())\n",
    "\n",
    "rp = tf.reduce_mean(tf.tensordot(rt, w, 1)) * 252 # alt: tf.nn.moments(rt, axes=[1])\n",
    "err = tf.tensordot((rt - tf.reduce_mean(rt, 0)), w, 1)\n",
    "varp = tf.tensordot(tf.transpose(err), err, 1) / n_sample # E w^T (X - EX)^T (X - EX) w\n",
    "risk = tf.sqrt(varp * 252) # annualized std\n",
    "\n",
    "sf_const = 1 - tf.reduce_sum(w) # self-financing constraints, Lagragian Duality\n",
    "\n",
    "obj = - rp + varp + l * sf_const\n",
    "opt = tf.train.GradientDescentOptimizer(learning_rate=0.001).minimize(obj)\n",
    "# CLIP GRADIENTS\n",
    "# opt = tf.train.GradientDescentOptimizer(learning_rate=0.001)\n",
    "# grads_and_vars = opt.compute_gradients(obj, [w, l])\n",
    "# clipped_grads_and_vars = [(tf.clip_by_norm(grad, <clipping threshold>), var) for grad, var in grads_and_vars]\n",
    "# opt.apply_gradients(clipped_grads_and_vars)"
   ]
  },
  {
   "cell_type": "code",
   "execution_count": 4,
   "metadata": {},
   "outputs": [
    {
     "name": "stdout",
     "output_type": "stream",
     "text": [
      "(array([0.00196805, 0.00233601, 0.00248891]), array([0.0007105 , 0.00058566, 0.00086931]))\n"
     ]
    }
   ],
   "source": [
    "init_op = tf.global_variables_initializer()\n",
    "with tf.Session() as sess:\n",
    "    sess.run(init_op)\n",
    "    print(sess.run(tf.nn.moments(rt, axes=[0]), feed_dict={rt:data}))"
   ]
  },
  {
   "cell_type": "code",
   "execution_count": 5,
   "metadata": {
    "collapsed": true,
    "scrolled": true
   },
   "outputs": [],
   "source": [
    "init_op = tf.global_variables_initializer()\n",
    "with tf.Session() as sess:\n",
    "    sess.run(init_op)\n",
    "    for i in range(100):\n",
    "        sess.run([w, opt, obj], feed_dict={rt: data})"
   ]
  }
 ],
 "metadata": {
  "kernelspec": {
   "display_name": "Python 2",
   "language": "python",
   "name": "python2"
  },
  "language_info": {
   "codemirror_mode": {
    "name": "ipython",
    "version": 2
   },
   "file_extension": ".py",
   "mimetype": "text/x-python",
   "name": "python",
   "nbconvert_exporter": "python",
   "pygments_lexer": "ipython2",
   "version": "2.7.14"
  }
 },
 "nbformat": 4,
 "nbformat_minor": 2
}
